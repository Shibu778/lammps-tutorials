{
 "cells": [
  {
   "cell_type": "markdown",
   "metadata": {},
   "source": [
    "# LAMMPS Tutorials 02. Using variables and iterating in LAMMPS!\n",
    "\n",
    "### Author: Mark Tschopp, mark.a.tschopp.civ at mail.mil\n",
    "\n",
    "Please contact me if you have a problem with this tutorial, so I can modify in Github.  I have added FAQs, and will update my versions of LAMMPS in the future to keep the scripts current.\n",
    "\n",
    "The latest version of this [Jupyter Notebook](http://ipython.org/notebook.html) tutorial is available at https://github.com/mrkllntschpp/lammps-tutorials.\n",
    "\n",
    "The original tutorials are given here: https://icme.hpc.msstate.edu/mediawiki/index.php/LAMMPS_tutorials.  A number of these tutorials are out of date and have been ported over into the current iPython Jupyter Notebook tutorials on github.\n",
    "\n",
    "***"
   ]
  },
  {
   "cell_type": "markdown",
   "metadata": {},
   "source": [
    "## Description:\n",
    "<a id=\"Sec1\"></a>\n",
    "This is part two of a tutorial for running LAMMPS simulation on a Windows machine. For this example, the molecular dynamics simulation calculates the equilibrium lattice constant and the corresponding cohesive energy for aluminum. This tutorial will introduce the use of variables via command line and using MATLAB/Python for running LAMMPS. \n",
    "\n",
    "<img src=\"https://icme.hpc.msstate.edu/mediawiki/images/e/ef/Fcc_stereo.gif\" alt=\"Face-centered Cubic Lattice Structure\" title=\"FCC Lattice Structure\" />"
   ]
  },
  {
   "cell_type": "markdown",
   "metadata": {},
   "source": [
    "## Complete Tutorial One \n",
    "\n",
    "If you have not done so already, complete the first tutorial available [here](https://github.com/mrkllntschpp/lammps-tutorials). "
   ]
  },
  {
   "cell_type": "markdown",
   "metadata": {},
   "source": [
    "***\n",
    "## Step 1: Modify the input file \n",
    "\n",
    "This input script was run using the 24Jan2020 version of LAMMPS. Changes in some commands may require revision of the input script. In the below input script, the initial lattice constant (4) was replaced with the variable **latconst** (\\${latconst}). Either modify the initial script `calc_fcc.in` or copy the text below and paste it into a new text file. Name the modified file: `calc_fcc_ver1.in`. If pasting, use the `Paste Special` command with `Unformatted Text`. Note, this requires the variable **latconst** to be manually passed in from the command line when executing lammps, e.g. `lmp_win_no-mpi -in calc_fcc_ver1.in -var latconst 4`. "
   ]
  },
  {
   "cell_type": "code",
   "execution_count": 1,
   "metadata": {
    "scrolled": true
   },
   "outputs": [
    {
     "name": "stdout",
     "output_type": "stream",
     "text": [
      "Overwriting calc_fcc_ver1.in\n"
     ]
    }
   ],
   "source": [
    "%%writefile calc_fcc_ver1.in\n",
    "######################################\n",
    "# LAMMPS INPUT SCRIPT\n",
    "# Find minimum energy fcc configuration\n",
    "# Mark Tschopp\n",
    "# This requires the variable latconst to be input via the command line\n",
    "# e.g., lmp_win_no-mpi -var latconst 4 < calc_fcc_ver1.in\n",
    "\n",
    "######################################\n",
    "# INITIALIZATION\n",
    "clear \n",
    "units metal \n",
    "dimension 3 \n",
    "boundary p p p \n",
    "atom_style atomic \n",
    "atom_modify map array\n",
    "\n",
    "######################################\n",
    "# ATOM DEFINITION\n",
    "lattice fcc ${latconst}\n",
    "region box block 0 1 0 1 0 1 units lattice\n",
    "create_box 1 box\n",
    "\n",
    "lattice fcc ${latconst} orient x 1 0 0 orient y 0 1 0 orient z 0 0 1  \n",
    "create_atoms 1 box\n",
    "replicate 1 1 1\n",
    "\n",
    "######################################\n",
    "# DEFINE INTERATOMIC POTENTIAL\n",
    "pair_style eam/alloy \n",
    "pair_coeff * * Al99.eam.alloy Al\n",
    "neighbor 2.0 bin \n",
    "neigh_modify delay 10 check yes \n",
    " \n",
    "######################################\n",
    "# DEFINE COMPUTES \n",
    "compute eng all pe/atom \n",
    "compute eatoms all reduce sum c_eng \n",
    "\n",
    "#####################################################\n",
    "# MINIMIZATION\n",
    "reset_timestep 0 \n",
    "fix 1 all box/relax iso 0.0 vmax 0.001\n",
    "thermo 10 \n",
    "thermo_style custom step pe lx ly lz press pxx pyy pzz c_eatoms \n",
    "min_style cg \n",
    "minimize 1e-25 1e-25 5000 10000 \n",
    "\n",
    "variable natoms equal \"count(all)\" \n",
    "variable teng equal \"c_eatoms\"\n",
    "variable length equal \"lx\"\n",
    "variable ecoh equal \"v_teng/v_natoms\"\n",
    "\n",
    "print \"Total energy (eV) = ${teng};\"\n",
    "print \"Number of atoms = ${natoms};\"\n",
    "print \"Lattice constant (Angstoms) = ${length};\"\n",
    "print \"Cohesive energy (eV) = ${ecoh};\"\n",
    "\n",
    "print \"All done!\""
   ]
  },
  {
   "cell_type": "markdown",
   "metadata": {},
   "source": [
    "***\n",
    "## Step 2: Run in LAMMPS \n",
    "OK. Get to the command prompt and run the script that we just wrote.  It should look like this."
   ]
  },
  {
   "cell_type": "code",
   "execution_count": 2,
   "metadata": {},
   "outputs": [
    {
     "name": "stdout",
     "output_type": "stream",
     "text": [
      "LAMMPS (24 Jan 2020)\n",
      "OMP_NUM_THREADS environment is not set. Defaulting to 1 thread. (../comm.cpp:94)\n",
      "  using 1 OpenMP thread(s) per MPI task\n",
      "OMP_NUM_THREADS environment is not set. Defaulting to 1 thread. (../comm.cpp:94)\n",
      "  using 1 OpenMP thread(s) per MPI task\n",
      "Lattice spacing in x,y,z = 4 4 4\n",
      "Created orthogonal box = (0 0 0) to (4 4 4)\n",
      "  1 by 1 by 1 MPI processor grid\n",
      "Lattice spacing in x,y,z = 4 4 4\n",
      "Created 4 atoms\n",
      "  create_atoms CPU = 0 secs\n",
      "Replicating atoms ...\n",
      "  orthogonal box = (0 0 0) to (4 4 4)\n",
      "  1 by 1 by 1 MPI processor grid\n",
      "  4 atoms\n",
      "  replicate CPU = 0 secs\n",
      "WARNING: Using 'neigh_modify every 1 delay 0 check yes' setting during minimization (../min.cpp:178)\n",
      "Neighbor list info ...\n",
      "  update every 1 steps, delay 0 steps, check yes\n",
      "  max neighbors/atom: 2000, page size: 100000\n",
      "  master list distance cutoff = 8.28721\n",
      "  ghost atom cutoff = 8.28721\n",
      "  binsize = 4.1436, bins = 1 1 1\n",
      "  1 neighbor lists, perpetual/occasional/extra = 1 0 0\n",
      "  (1) pair eam/alloy, perpetual\n",
      "      attributes: half, newton on\n",
      "      pair build: half/bin/atomonly/newton\n",
      "      stencil: half/bin/3d/newton\n",
      "      bin: standard\n",
      "Setting up cg style minimization ...\n",
      "  Unit style    : metal\n",
      "  Current step  : 0\n",
      "WARNING: Energy due to 1 extra global DOFs will be included in minimizer energies\n",
      "Per MPI rank memory allocation (min/avg/max) = 4.495 | 4.495 | 4.495 Mbytes\n",
      "Step PotEng Lx Ly Lz Press Pxx Pyy Pzz c_eatoms \n",
      "       0   -13.417787            4            4            4     29590.11     29590.11     29590.11     29590.11   -13.417787 \n",
      "      10   -13.439104         4.04         4.04         4.04    5853.9553    5853.9553    5853.9553    5853.9553   -13.439104 \n",
      "      20       -13.44    4.0500047    4.0500047    4.0500047 2.1131131e-10 2.2023682e-10 2.142121e-10 1.9948502e-10       -13.44 \n",
      "      29       -13.44    4.0500047    4.0500047    4.0500047 4.7215918e-10 4.8063841e-10 4.5787837e-10 4.7796075e-10       -13.44 \n",
      "Loop time of 0.029984 on 1 procs for 29 steps with 4 atoms\n",
      "\n",
      "0.0% CPU use with 1 MPI tasks x 1 OpenMP threads\n",
      "\n",
      "Minimization stats:\n",
      "  Stopping criterion = energy tolerance\n",
      "  Energy initial, next-to-last, final = \n",
      "        -13.4177872966     -13.4399999527     -13.4399999527\n",
      "  Force two-norm initial, final = 3.54599 5.81382e-14\n",
      "  Force max component initial, final = 3.54599 5.80057e-14\n",
      "  Final line search alpha, max atom move = 1 5.80057e-14\n",
      "  Iterations, force evaluations = 29 46\n",
      "\n",
      "MPI task timing breakdown:\n",
      "Section |  min time  |  avg time  |  max time  |%varavg| %total\n",
      "---------------------------------------------------------------\n",
      "Pair    | 0.0049961  | 0.0049961  | 0.0049961  |   0.0 | 16.66\n",
      "Neigh   | 0          | 0          | 0          |   0.0 |  0.00\n",
      "Comm    | 0.0050011  | 0.0050011  | 0.0050011  |   0.0 | 16.68\n",
      "Output  | 0          | 0          | 0          |   0.0 |  0.00\n",
      "Modify  | 0          | 0          | 0          |   0.0 |  0.00\n",
      "Other   |            | 0.01999    |            |       | 66.66\n",
      "\n",
      "Nlocal:    4 ave 4 max 4 min\n",
      "Histogram: 1 0 0 0 0 0 0 0 0 0\n",
      "Nghost:    662 ave 662 max 662 min\n",
      "Histogram: 1 0 0 0 0 0 0 0 0 0\n",
      "Neighs:    280 ave 280 max 280 min\n",
      "Histogram: 1 0 0 0 0 0 0 0 0 0\n",
      "\n",
      "Total # of neighbors = 280\n",
      "Ave neighs/atom = 70\n",
      "Neighbor list builds = 0\n",
      "Dangerous builds = 0\n",
      "Total energy (eV) = -13.4399999527352;\n",
      "Number of atoms = 4;\n",
      "Lattice constant (Angstoms) = 4.05000466178543;\n",
      "Cohesive energy (eV) = -3.3599999881838;\n",
      "All done!\n",
      "Total wall time: 0:00:00\n"
     ]
    }
   ],
   "source": [
    "!\"lammps\" -var latconst 4.0 < calc_fcc_ver1.in"
   ]
  },
  {
   "cell_type": "markdown",
   "metadata": {},
   "source": [
    "Try modifying the starting lattice constant from the command line, *e.g.*, to start with a lattice constant of 3.0 Angstroms, type 'lmp_serial -var latconst 3.0 < calc_fcc_ver1.in'. This will not affect the final values (above), but it will start the simulation with a lower lattice constant for the FCC structure."
   ]
  },
  {
   "cell_type": "code",
   "execution_count": 3,
   "metadata": {},
   "outputs": [
    {
     "name": "stdout",
     "output_type": "stream",
     "text": [
      "LAMMPS (24 Jan 2020)\n",
      "OMP_NUM_THREADS environment is not set. Defaulting to 1 thread. (../comm.cpp:94)\n",
      "  using 1 OpenMP thread(s) per MPI task\n",
      "OMP_NUM_THREADS environment is not set. Defaulting to 1 thread. (../comm.cpp:94)\n",
      "  using 1 OpenMP thread(s) per MPI task\n",
      "Lattice spacing in x,y,z = 3 3 3\n",
      "Created orthogonal box = (0 0 0) to (3 3 3)\n",
      "  1 by 1 by 1 MPI processor grid\n",
      "Lattice spacing in x,y,z = 3 3 3\n",
      "Created 4 atoms\n",
      "  create_atoms CPU = 0 secs\n",
      "Replicating atoms ...\n",
      "  orthogonal box = (0 0 0) to (3 3 3)\n",
      "  1 by 1 by 1 MPI processor grid\n",
      "  4 atoms\n",
      "  replicate CPU = 0 secs\n",
      "WARNING: Using 'neigh_modify every 1 delay 0 check yes' setting during minimization (../min.cpp:178)\n",
      "Neighbor list info ...\n",
      "  update every 1 steps, delay 0 steps, check yes\n",
      "  max neighbors/atom: 2000, page size: 100000\n",
      "  master list distance cutoff = 8.28721\n",
      "  ghost atom cutoff = 8.28721\n",
      "  binsize = 4.1436, bins = 1 1 1\n",
      "  1 neighbor lists, perpetual/occasional/extra = 1 0 0\n",
      "  (1) pair eam/alloy, perpetual\n",
      "      attributes: half, newton on\n",
      "      pair build: half/bin/atomonly/newton\n",
      "      stencil: half/bin/3d/newton\n",
      "      bin: standard\n",
      "Setting up cg style minimization ...\n",
      "  Unit style    : metal\n",
      "  Current step  : 0\n",
      "WARNING: Energy due to 1 extra global DOFs will be included in minimizer energies\n",
      "Per MPI rank memory allocation (min/avg/max) = 4.502 | 4.502 | 4.502 Mbytes\n",
      "Step PotEng Lx Ly Lz Press Pxx Pyy Pzz c_eatoms \n",
      "       0     9.965675            3            3            3    3458818.8    3458818.8    3458818.8    3458818.8     9.965675 \n",
      "      10    8.2278955         3.03         3.03         3.03    3326311.7    3326311.7    3326311.7    3326311.7    8.2278955 \n",
      "      20    6.5407146         3.06         3.06         3.06      3152679      3152679      3152679      3152679    6.5407146 \n",
      "      30    4.9138013         3.09         3.09         3.09    2971490.2    2971490.2    2971490.2    2971490.2    4.9138013 \n",
      "      40    3.3576717         3.12         3.12         3.12    2772390.3    2772390.3    2772390.3    2772390.3    3.3576717 \n",
      "      50    1.8866582         3.15         3.15         3.15    2554805.1    2554805.1    2554805.1    2554805.1    1.8866582 \n",
      "      60   0.51216154         3.18         3.18         3.18    2331874.9    2331874.9    2331874.9    2331874.9   0.51216154 \n",
      "      70  -0.76371356         3.21         3.21         3.21      2122446      2122446      2122446      2122446  -0.76371356 \n",
      "      80   -1.9484596         3.24         3.24         3.24    1938269.5    1938269.5    1938269.5    1938269.5   -1.9484596 \n",
      "      90   -3.0533151         3.27         3.27         3.27    1778431.7    1778431.7    1778431.7    1778431.7   -3.0533151 \n",
      "     100   -4.0877221          3.3          3.3          3.3    1637176.2    1637176.2    1637176.2    1637176.2   -4.0877221 \n",
      "     110   -5.0566619         3.33         3.33         3.33    1502862.8    1502862.8    1502862.8    1502862.8   -5.0566619 \n",
      "     120   -5.9590126         3.36         3.36         3.36    1368469.7    1368469.7    1368469.7    1368469.7   -5.9590126 \n",
      "     130   -6.7911412         3.39         3.39         3.39    1233014.6    1233014.6    1233014.6    1233014.6   -6.7911412 \n",
      "     140   -7.5508303         3.42         3.42         3.42    1101952.7    1101952.7    1101952.7    1101952.7   -7.5508303 \n",
      "     150   -8.2406817         3.45         3.45         3.45    981949.61    981949.61    981949.61    981949.61   -8.2406817 \n",
      "     160   -8.8658333         3.48         3.48         3.48    874574.93    874574.93    874574.93    874574.93   -8.8658333 \n",
      "     170   -9.4330444         3.51         3.51         3.51     781176.4     781176.4     781176.4     781176.4   -9.4330444 \n",
      "     180   -9.9493468         3.54         3.54         3.54    700382.06    700382.06    700382.06    700382.06   -9.9493468 \n",
      "     190   -10.420951         3.57         3.57         3.57    629924.78    629924.78    629924.78    629924.78   -10.420951 \n",
      "     200    -10.85267          3.6          3.6          3.6    567324.29    567324.29    567324.29    567324.29    -10.85267 \n",
      "     210   -11.247853         3.63         3.63         3.63    510216.16    510216.16    510216.16    510216.16   -11.247853 \n",
      "     220   -11.608415         3.66         3.66         3.66    456609.65    456609.65    456609.65    456609.65   -11.608415 \n",
      "     230   -11.935085         3.69         3.69         3.69     404837.7     404837.7     404837.7     404837.7   -11.935085 \n",
      "     240   -12.227243         3.72         3.72         3.72    352930.13    352930.13    352930.13    352930.13   -12.227243 \n",
      "     250   -12.483171         3.75         3.75         3.75    300228.65    300228.65    300228.65    300228.65   -12.483171 \n",
      "     260   -12.701267         3.78         3.78         3.78    248104.16    248104.16    248104.16    248104.16   -12.701267 \n",
      "     270   -12.882122         3.81         3.81         3.81    200021.24    200021.24    200021.24    200021.24   -12.882122 \n",
      "     280   -13.028802         3.84         3.84         3.84    158291.05    158291.05    158291.05    158291.05   -13.028802 \n",
      "     290   -13.146194         3.87         3.87         3.87    124258.04    124258.04    124258.04    124258.04   -13.146194 \n",
      "     300   -13.239431          3.9          3.9          3.9    96679.419    96679.419    96679.419    96679.419   -13.239431 \n",
      "     310   -13.312518         3.93         3.93         3.93    73797.678    73797.678    73797.678    73797.678   -13.312518 \n",
      "     320   -13.368221         3.96         3.96         3.96     54117.68     54117.68     54117.68     54117.68   -13.368221 \n",
      "     330   -13.408037         3.99         3.99         3.99    35673.589    35673.589    35673.589    35673.589   -13.408037 \n",
      "     340    -13.43198         4.02         4.02         4.02    17614.659    17614.659    17614.659    17614.659    -13.43198 \n",
      "     350       -13.44         4.05         4.05         4.05     2.726913     2.726913     2.726913     2.726913       -13.44 \n",
      "     360       -13.44    4.0500047    4.0500047    4.0500047 -1.5619633e-10 -1.7003086e-10 -1.512873e-10 -1.4727082e-10       -13.44 \n",
      "     366       -13.44    4.0500047    4.0500047    4.0500047 -2.7892201e-10 -3.025746e-10 -2.5169922e-10 -2.8249221e-10       -13.44 \n",
      "Loop time of 0.064966 on 1 procs for 366 steps with 4 atoms\n",
      "\n",
      "24.1% CPU use with 1 MPI tasks x 1 OpenMP threads\n",
      "\n",
      "Minimization stats:\n",
      "  Stopping criterion = energy tolerance\n",
      "  Energy initial, next-to-last, final = \n",
      "         9.96567496491     -13.4399999527     -13.4399999527\n",
      "  Force two-norm initial, final = 174.865 2.58036e-14\n",
      "  Force max component initial, final = 174.865 2.56996e-14\n",
      "  Final line search alpha, max atom move = 1 2.56996e-14\n",
      "  Iterations, force evaluations = 366 382\n",
      "\n",
      "MPI task timing breakdown:\n",
      "Section |  min time  |  avg time  |  max time  |%varavg| %total\n",
      "---------------------------------------------------------------\n",
      "Pair    | 0.014991   | 0.014991   | 0.014991   |   0.0 | 23.07\n",
      "Neigh   | 0          | 0          | 0          |   0.0 |  0.00\n",
      "Comm    | 0          | 0          | 0          |   0.0 |  0.00\n",
      "Output  | 0          | 0          | 0          |   0.0 |  0.00\n",
      "Modify  | 0          | 0          | 0          |   0.0 |  0.00\n",
      "Other   |            | 0.04998    |            |       | 76.93\n",
      "\n",
      "Nlocal:    4 ave 4 max 4 min\n",
      "Histogram: 1 0 0 0 0 0 0 0 0 0\n",
      "Nghost:    662 ave 662 max 662 min\n",
      "Histogram: 1 0 0 0 0 0 0 0 0 0\n",
      "Neighs:    400 ave 400 max 400 min\n",
      "Histogram: 1 0 0 0 0 0 0 0 0 0\n",
      "\n",
      "Total # of neighbors = 400\n",
      "Ave neighs/atom = 100\n",
      "Neighbor list builds = 1\n",
      "Dangerous builds = 0\n",
      "Total energy (eV) = -13.4399999527351;\n",
      "Number of atoms = 4;\n",
      "Lattice constant (Angstoms) = 4.05000466178543;\n",
      "Cohesive energy (eV) = -3.35999998818377;\n",
      "All done!\n",
      "Total wall time: 0:00:00\n"
     ]
    }
   ],
   "source": [
    "!\"lammps\" -var latconst 3.0 < calc_fcc_ver1.in"
   ]
  },
  {
   "cell_type": "markdown",
   "metadata": {},
   "source": [
    "***\n",
    "## Step 3: Iterate and Run in MATLAB \n",
    "\n",
    "Now, the exciting part! In this section, MATLAB will be used to run a LAMMPS simulation in Windows. Follow these steps: \n",
    "1. Open MATLAB \n",
    "1. Change to the directory that contains the LAMMPS executable (`lmp_serial.exe`), the input script (`calc_fcc_ver1.in`), and the potential file (`Al99.eam.alloy`). \n",
    "1. Type `system('lmp_serial -var latconst 4 < calc_fcc_ver1.in');` \n",
    "1. The simulation should show up on the MATLAB screen. When it completes, it will display \"All done\"! \n",
    "\n",
    "Now that you can run a simulation from MATLAB, it is easy to loop over a number of different lattice constants to calculate the energy. For instance, modify the input script again to only display the energy for the lattice constant input through the command line. The script should look like this: "
   ]
  },
  {
   "cell_type": "code",
   "execution_count": 4,
   "metadata": {},
   "outputs": [
    {
     "name": "stdout",
     "output_type": "stream",
     "text": [
      "Overwriting calc_fcc_ver2.in\n"
     ]
    }
   ],
   "source": [
    "%%writefile calc_fcc_ver2.in\n",
    "######################################\n",
    "# LAMMPS INPUT SCRIPT\n",
    "# Find minimum energy fcc configuration\n",
    "# Mark Tschopp\n",
    "# This requires the variable latconst to be input via the command line\n",
    "# e.g., lmp_win_no-mpi -var latconst 4 < calc_fcc_ver1.in\n",
    "\n",
    "######################################\n",
    "# INITIALIZATION\n",
    "clear \n",
    "units metal \n",
    "dimension 3 \n",
    "boundary p p p \n",
    "atom_style atomic \n",
    "atom_modify map array\n",
    "\n",
    "######################################\n",
    "# ATOM DEFINITION\n",
    "lattice fcc ${latconst} orient x 1 0 0 orient y 0 1 0 orient z 0 0 1  \n",
    "region box block 0 1 0 1 0 1 units lattice\n",
    "create_box 1 box\n",
    "create_atoms 1 box\n",
    "replicate 1 1 1\n",
    "\n",
    "######################################\n",
    "# DEFINE INTERATOMIC POTENTIAL\n",
    "pair_style eam/alloy \n",
    "pair_coeff * * Al99.eam.alloy Al\n",
    "neighbor 2.0 bin \n",
    "neigh_modify delay 10 check yes \n",
    " \n",
    "######################################\n",
    "# RUN 0\n",
    "run 0\n",
    "\n",
    "variable natoms equal \"count(all)\" \n",
    "variable teng equal \"pe\"\n",
    "variable length equal \"lx\"\n",
    "variable ecoh equal \"v_teng/v_natoms\"\n",
    "\n",
    "print \"Total energy (eV) = ${teng};\"\n",
    "print \"Number of atoms = ${natoms};\"\n",
    "print \"Lattice constant (Angstoms) = ${length};\"\n",
    "print \"Cohesive energy (eV) = ${ecoh};\"\n",
    "print \"%% ecoh = ${ecoh};\"\n",
    "\n",
    "print \"All done!\" "
   ]
  },
  {
   "cell_type": "markdown",
   "metadata": {},
   "source": [
    "The `run 0` command can be used to calculate the energy of the system without actually running an iteration. Name this `calc_fcc_ver2.in` and combine this with a simple MATLAB script like this: "
   ]
  },
  {
   "cell_type": "markdown",
   "metadata": {},
   "source": [
    "```OCTAVE\n",
    "% MATLAB Script for running LAMMPS multiple times\n",
    "\n",
    "count = 0;\n",
    "for i = 3.0:0.10:5.0\n",
    "    command_line = ['lmp_win_no-mpi -var latconst ' num2str(i) ' < calc_fcc_ver2.in'];\n",
    "\n",
    "    % this next line executes the command line\n",
    "    system(command_line)\n",
    "\n",
    "    % all that is left is to mine the 'log.lammps' file for the energy\n",
    "    fid = fopen('log.lammps');\n",
    "        tline = fgetl(fid);\n",
    "        while ~feof(fid)\n",
    "           matches = strfind(tline, '%%');\n",
    "           num = length(matches);\n",
    "           if num > 0 && matches == 1\n",
    "                teval = strrep(tline,'%%','');\n",
    "                eval(teval)\n",
    "           end\n",
    "           tline = fgetl(fid);\n",
    "        end\n",
    "    fclose(fid);\n",
    "\n",
    "   % store the values in a matrix\n",
    "   count = count + 1;\n",
    "   X(count) = i; Y(count) = ecoh;\n",
    "end\n",
    "\n",
    "plot(X,Y,'-*r'), axis square\n",
    "```"
   ]
  },
  {
   "cell_type": "markdown",
   "metadata": {},
   "source": [
    "This script increases the lattice constant (variable `i`) from 3.0 to 5.0 Angstroms in increments of 0.10 Angstroms (`3.0:0.10:0.50`) AND calculates the energy for each lattice constant. As an easy extension, MATLAB can now be used to run hundreds of simulations, extract energies, and plot the lattice constant-energy curve in a matter of a minute or so. Notice the line `print \"%% ecoh = ${ecoh};\"` in the `calc_fcc_ver2.in` script.  The '\\%\\%' is used as a flag for when MATLAB mines the `log.lammps` file. This MATLAB script iteratively reads every line in the `log.lammps` file and checks to see if the flag \\%\\% is contained within each line. When MATLAB finds a line with the flag, it removes the flag, and evaluates (`eval`) the rest of the line in MATLAB (which converts the string to a variable in the MATLAB stack). Notice that vector `X` in MATLAB contains the lattice constant that is passed to LAMMPS and vector `Y` in MATLAB now contains the potential energy `ecoh` that was computed in LAMMPS."
   ]
  },
  {
   "cell_type": "markdown",
   "metadata": {},
   "source": [
    "***\n",
    "## Run Iteratively in Python\n",
    "\n",
    "Now let's try it in Python."
   ]
  },
  {
   "cell_type": "code",
   "execution_count": 5,
   "metadata": {},
   "outputs": [
    {
     "name": "stdout",
     "output_type": "stream",
     "text": [
      "\"lammps\" -in calc_fcc_ver2.in -var latconst 3.00 -log log_000.lammps\n",
      "\"lammps\" -in calc_fcc_ver2.in -var latconst 3.10 -log log_001.lammps\n",
      "\"lammps\" -in calc_fcc_ver2.in -var latconst 3.20 -log log_002.lammps\n",
      "\"lammps\" -in calc_fcc_ver2.in -var latconst 3.30 -log log_003.lammps\n",
      "\"lammps\" -in calc_fcc_ver2.in -var latconst 3.40 -log log_004.lammps\n",
      "\"lammps\" -in calc_fcc_ver2.in -var latconst 3.50 -log log_005.lammps\n",
      "\"lammps\" -in calc_fcc_ver2.in -var latconst 3.60 -log log_006.lammps\n",
      "\"lammps\" -in calc_fcc_ver2.in -var latconst 3.70 -log log_007.lammps\n",
      "\"lammps\" -in calc_fcc_ver2.in -var latconst 3.80 -log log_008.lammps\n",
      "\"lammps\" -in calc_fcc_ver2.in -var latconst 3.90 -log log_009.lammps\n",
      "\"lammps\" -in calc_fcc_ver2.in -var latconst 4.00 -log log_010.lammps\n",
      "\"lammps\" -in calc_fcc_ver2.in -var latconst 4.10 -log log_011.lammps\n",
      "\"lammps\" -in calc_fcc_ver2.in -var latconst 4.20 -log log_012.lammps\n",
      "\"lammps\" -in calc_fcc_ver2.in -var latconst 4.30 -log log_013.lammps\n",
      "\"lammps\" -in calc_fcc_ver2.in -var latconst 4.40 -log log_014.lammps\n",
      "\"lammps\" -in calc_fcc_ver2.in -var latconst 4.50 -log log_015.lammps\n",
      "\"lammps\" -in calc_fcc_ver2.in -var latconst 4.60 -log log_016.lammps\n",
      "\"lammps\" -in calc_fcc_ver2.in -var latconst 4.70 -log log_017.lammps\n",
      "\"lammps\" -in calc_fcc_ver2.in -var latconst 4.80 -log log_018.lammps\n",
      "\"lammps\" -in calc_fcc_ver2.in -var latconst 4.90 -log log_019.lammps\n",
      "\"lammps\" -in calc_fcc_ver2.in -var latconst 5.00 -log log_020.lammps\n",
      "[3.0, 3.1, 3.2, 3.3, 3.4, 3.5, 3.6, 3.7, 3.8, 3.9, 4.0, 4.1, 4.2, 4.3, 4.4, 4.5, 4.6, 4.7, 4.8, 4.9, 5.0]\n",
      "--- 0.4868137836456299 seconds ---\n"
     ]
    }
   ],
   "source": [
    "import numpy as np\n",
    "import subprocess \n",
    "import shlex\n",
    "import time\n",
    "\n",
    "start_time = time.time()\n",
    "j = 0\n",
    "x = []\n",
    "for i in list(np.arange(3.00, 5.05, 0.10)):\n",
    "    command_line = f'\\\"lammps\\\" \\\n",
    "-in calc_fcc_ver2.in -var latconst {i:0.02f} -log log_{j:03d}.lammps'\n",
    "    x.append(round(i,3))\n",
    "    j += 1\n",
    "    print(command_line)\n",
    "    args = shlex.split(command_line)\n",
    "#    p = subprocess.call(args) # Success! but much slower...\n",
    "    p = subprocess.Popen(args) # Success!\n",
    "    \n",
    "print(x)\n",
    "print(\"--- %s seconds ---\" % (time.time() - start_time))\n"
   ]
  },
  {
   "cell_type": "markdown",
   "metadata": {},
   "source": [
    "Wow!  That ran quickly.  And, it created a bunch of log files.  I purposedly separated the different parts of this process in Python.  Now, we are going to read the cohesive energy for each lattice constant into a variable and store it in a vector.  While I removed the `;` in the flagged line for execution in Python, I could have just modified the script so that it was Python executable, as opposed to MATLAB executable. "
   ]
  },
  {
   "cell_type": "code",
   "execution_count": 6,
   "metadata": {},
   "outputs": [
    {
     "name": "stdout",
     "output_type": "stream",
     "text": [
      "--- 0.06231498718261719 seconds ---\n"
     ]
    }
   ],
   "source": [
    "# how do I read each line in script, find the flag, and assign ecoh to a vector Y for plotting\n",
    "\n",
    "import glob, os\n",
    "import time\n",
    "\n",
    "start_time = time.time()\n",
    "target = \"%%\"\n",
    "y = []\n",
    "for file in glob.glob(\"log_*.lammps\"):\n",
    "    with open(file) as f:\n",
    "        for line in f:\n",
    "            if target in line and \"print\" not in line:\n",
    "                exec(line.replace(\"%% \",\"\").replace(\";\",\"\"))\n",
    "                y.append(ecoh)\n",
    "\n",
    "print(\"--- %s seconds ---\" % (time.time() - start_time))\n"
   ]
  },
  {
   "cell_type": "markdown",
   "metadata": {},
   "source": [
    "OK.  Now that I have both of those, let's put everything together and plot it."
   ]
  },
  {
   "cell_type": "code",
   "execution_count": 7,
   "metadata": {},
   "outputs": [
    {
     "name": "stdout",
     "output_type": "stream",
     "text": [
      "\"lammps\" -in calc_fcc_ver2.in -var latconst 3.00 -log log_000.lammps\n",
      "\"lammps\" -in calc_fcc_ver2.in -var latconst 3.10 -log log_001.lammps\n",
      "\"lammps\" -in calc_fcc_ver2.in -var latconst 3.20 -log log_002.lammps\n",
      "\"lammps\" -in calc_fcc_ver2.in -var latconst 3.30 -log log_003.lammps\n",
      "\"lammps\" -in calc_fcc_ver2.in -var latconst 3.40 -log log_004.lammps\n",
      "\"lammps\" -in calc_fcc_ver2.in -var latconst 3.50 -log log_005.lammps\n",
      "\"lammps\" -in calc_fcc_ver2.in -var latconst 3.60 -log log_006.lammps\n",
      "\"lammps\" -in calc_fcc_ver2.in -var latconst 3.70 -log log_007.lammps\n",
      "\"lammps\" -in calc_fcc_ver2.in -var latconst 3.80 -log log_008.lammps\n",
      "\"lammps\" -in calc_fcc_ver2.in -var latconst 3.90 -log log_009.lammps\n",
      "\"lammps\" -in calc_fcc_ver2.in -var latconst 4.00 -log log_010.lammps\n",
      "\"lammps\" -in calc_fcc_ver2.in -var latconst 4.10 -log log_011.lammps\n",
      "\"lammps\" -in calc_fcc_ver2.in -var latconst 4.20 -log log_012.lammps\n",
      "\"lammps\" -in calc_fcc_ver2.in -var latconst 4.30 -log log_013.lammps\n",
      "\"lammps\" -in calc_fcc_ver2.in -var latconst 4.40 -log log_014.lammps\n",
      "\"lammps\" -in calc_fcc_ver2.in -var latconst 4.50 -log log_015.lammps\n",
      "\"lammps\" -in calc_fcc_ver2.in -var latconst 4.60 -log log_016.lammps\n",
      "\"lammps\" -in calc_fcc_ver2.in -var latconst 4.70 -log log_017.lammps\n",
      "\"lammps\" -in calc_fcc_ver2.in -var latconst 4.80 -log log_018.lammps\n",
      "\"lammps\" -in calc_fcc_ver2.in -var latconst 4.90 -log log_019.lammps\n",
      "\"lammps\" -in calc_fcc_ver2.in -var latconst 5.00 -log log_020.lammps\n",
      "--- 11.010871171951294 seconds ---\n"
     ]
    },
    {
     "data": {
      "image/png": "[encoded data removed]",
      "text/plain": [
       "<Figure size 432x288 with 1 Axes>"
      ]
     },
     "metadata": {
      "needs_background": "light"
     },
     "output_type": "display_data"
    }
   ],
   "source": [
    "import numpy as np\n",
    "import subprocess \n",
    "import shlex\n",
    "import glob, os\n",
    "import time\n",
    "\n",
    "start_time = time.time()\n",
    "\n",
    "j = 0\n",
    "x = []\n",
    "y = []\n",
    "target = \"%%\"\n",
    "for i in list(np.arange(3.00, 5.05, 0.10)):\n",
    "    command_line = f'\\\"lammps\\\" \\\n",
    "-in calc_fcc_ver2.in -var latconst {i:0.02f} -log log_{j:03d}.lammps'\n",
    "    x.append(round(i,3))\n",
    "    file = f\"log_{j:03d}.lammps\"\n",
    "    j += 1\n",
    "    print(command_line)\n",
    "    args = shlex.split(command_line)\n",
    "    p = subprocess.Popen(args) # Success!\n",
    "    p.wait()\n",
    "    with open(file) as f:\n",
    "        for line in f:\n",
    "            if target in line and \"print\" not in line:\n",
    "                exec(line.replace(\"%% \",\"\").replace(\";\",\"\"))\n",
    "                y.append(ecoh)\n",
    "\n",
    "print(\"--- %s seconds ---\" % (time.time() - start_time))\n",
    "                \n",
    "%matplotlib inline\n",
    "import matplotlib.pyplot as plt\n",
    "from pylab import *\n",
    "figure()\n",
    "plot(x, y, 'r*-')\n",
    "xlabel('Lattice constant (Angstrom)')\n",
    "ylabel('Cohesive Energy (eV)')\n",
    "title('aluminum cohesive energy evolution')\n",
    "show()"
   ]
  },
  {
   "cell_type": "markdown",
   "metadata": {},
   "source": [
    "Hmm.  It's quite a bit slower when you have to wait within a loop for each subprocess to finish with the `.wait()` command.  I had to put that in the script so it didn't start a subprocess and while it is still running, the Python script would try to open up the log file.   "
   ]
  },
  {
   "cell_type": "markdown",
   "metadata": {},
   "source": [
    "***\n",
    "## LAMMPS Input Script Explained\n",
    "\n",
    "In this section, we will break down what LAMMPS is doing. The easy way to do this on your own is to consult the LAMMPS manual for each command or go to the Internet LAMMPS manual, *i.e.*, at https://lammps.sandia.gov\n",
    "\n",
    "So, first, what is different in this example?  Many of the LAMMPS commands have been explained in Tutorial 1.  Here is what I think is important in this tutorial.\n",
    "\n",
    "### `Variable` command\n",
    "\n",
    "<br>\n",
    "<div class=\"alert alert-block alert-info\">\n",
    "lattice fcc \\${latconst} <br>\n",
    "region box block 0 1 0 1 0 1 units lattice <br>\n",
    "create_box 1 box <br><br>\n",
    "lattice fcc \\${latconst} orient x 1 0 0 orient y 0 1 0 orient z 0 0 1 <br>\n",
    "create_atoms 1 box <br>\n",
    "replicate 1 1 1\n",
    "</div>\n",
    "\n",
    "OK. Do you remember those variables from the first LAMMPS input script? They can be fed in from the command line as well.  This is a great example of passing in the constant `latconst` from the command line and then using it within other LAMMPS commands.  If you combed through the script, you won't find any `variable` command that sets `latconst` to anything, i.e., because it is meant to be set from the command line.  It's usually a good idea to add a comment about the command line syntax or what variables need to be set outside of the script.\n",
    "\n",
    "### Print `%%` in log file.  Print and retrieve!\n",
    "\n",
    "<br>\n",
    "<div class=\"alert alert-block alert-info\">\n",
    "print \"%% ecoh = ${ecoh};\"\n",
    "</div>\n",
    "\n",
    "You are likely to miss this line if I didn't specifically call it out in the tutorial. This was just an easy way to flag certain lines within the log file, which is filled with all sorts of stuff.  There are a number of different iterations of this and you'll see in the tutorials how this is used in different ways to extract data from the LAMMPS simulations.  I like having all the information in a file, and then being able to extract it when I need to.\n",
    "\n",
    "But Mark, why didn't you just compile LAMMPS with Python and seemlessly pass information back-and-forth?  Well, because this is really easy to set up. Plus, my days of compiling Fortran versions of codes like LAMMPS on various supercomputers has left me permanently scarred.  It's gotten better, I know, but if I can not compile LAMMPS on a **WINDOWS** machine to people how to do a few things... I'll take it! "
   ]
  },
  {
   "cell_type": "markdown",
   "metadata": {},
   "source": [
    "***\n",
    "## FAQs \n",
    "\n",
    "<br>\n",
    "<div class=\"alert alert-danger\">\n",
    "Q1: So, what does the `run 0` command actually do? Is it minimization? Is it molecular dynamics?\n",
    "</div>\n",
    "\n",
    "A: The `run 0` command is not minimization or molecular dynamics. The atoms are not displaced at all by this command. This is merely a way for LAMMPS to know that it needs to calculate additionally information for each atom or for the entire system. For instance, before the `run 0` command, LAMMPS may not know the forces on each atom or the energy for the entire system. By executing the `run 0` command, LAMMPS will calculate all the forces and attributes necessary to run molecular dynamics, but will not actually perform the timestep at the end, moving the atoms. Now, the user can print these attributes to screen or to a dumpfile, etc. \n",
    "\n",
    "In some cases, the user will need to tell LAMMPS what values they want LAMMPS to calculate prior to a `run 0` command. For example, if you want the stresses on every atom, you will need to define a compute or a variable command prior to `run 0` and then let LAMMPS know that you need this value by inserting it in to the `thermo_style` command (like in Tutorial 3!). For more information, see the LAMMPS documentation on the run command. "
   ]
  },
  {
   "cell_type": "markdown",
   "metadata": {},
   "source": [
    "***\n",
    "## Tutorial Links\n",
    "\n",
    "* [Click here to open Tutorial 1](LAMMPS-Tutorials-01.ipynb)\n",
    "* [Click here to open the next tutorial](LAMMPS-Tutorials-03.ipynb)"
   ]
  },
  {
   "cell_type": "markdown",
   "metadata": {},
   "source": [
    "***\n",
    "## References \n",
    "\n",
    "1. S. Plimpton, \"Fast Parallel Algorithms for Short-Range Molecular Dynamics,\" J. Comp. Phys., 117, 1-19 (1995)."
   ]
  }
 ],
 "metadata": {
  "kernelspec": {
   "display_name": "Python 3",
   "language": "python",
   "name": "python3"
  },
  "language_info": {
   "codemirror_mode": {
    "name": "ipython",
    "version": 3
   },
   "file_extension": ".py",
   "mimetype": "text/x-python",
   "name": "python",
   "nbconvert_exporter": "python",
   "pygments_lexer": "ipython3",
   "version": "3.7.6"
  }
 },
 "nbformat": 4,
 "nbformat_minor": 2
}
